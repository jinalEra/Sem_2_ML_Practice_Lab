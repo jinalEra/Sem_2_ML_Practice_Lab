{
 "cells": [
  {
   "cell_type": "code",
   "execution_count": 4,
   "id": "020d16d9-c44f-4964-83a7-629106f008a7",
   "metadata": {},
   "outputs": [
    {
     "data": {
      "text/plain": [
       "array([[0.21421579, 0.02290038, 0.44584227],\n",
       "       [0.3986845 , 0.36782217, 0.62041593],\n",
       "       [0.05888082, 0.30661851, 0.92665719]])"
      ]
     },
     "execution_count": 4,
     "metadata": {},
     "output_type": "execute_result"
    }
   ],
   "source": [
    "import pandas as pd\n",
    "import numpy as np\n",
    "\n",
    "a1 = np.random.random((3,3))\n",
    "a1"
   ]
  },
  {
   "cell_type": "code",
   "execution_count": 75,
   "id": "7ee60616-1bab-4891-836f-ec1ffed8e57b",
   "metadata": {},
   "outputs": [
    {
     "data": {
      "text/plain": [
       "2"
      ]
     },
     "execution_count": 75,
     "metadata": {},
     "output_type": "execute_result"
    }
   ],
   "source": [
    "a1.ndim"
   ]
  },
  {
   "cell_type": "code",
   "execution_count": 5,
   "id": "ff3d345c-aba2-46f3-8cd1-65168e55196b",
   "metadata": {},
   "outputs": [
    {
     "data": {
      "text/plain": [
       "array([[0.85529083, 0.98760695, 0.76605505],\n",
       "       [0.32772164, 0.2462016 , 0.00288729],\n",
       "       [0.85112758, 0.37150162, 0.18023518]])"
      ]
     },
     "execution_count": 5,
     "metadata": {},
     "output_type": "execute_result"
    }
   ],
   "source": [
    "a2 = np.random.random((3,3))\n",
    "a2"
   ]
  },
  {
   "cell_type": "code",
   "execution_count": 26,
   "id": "63da8cbc-6954-4c40-ae41-8af2de3981c3",
   "metadata": {},
   "outputs": [
    {
     "data": {
      "text/plain": [
       "array([[0.21421579, 0.02290038, 0.44584227, 0.85529083, 0.98760695,\n",
       "        0.76605505],\n",
       "       [0.3986845 , 0.36782217, 0.62041593, 0.32772164, 0.2462016 ,\n",
       "        0.00288729],\n",
       "       [0.05888082, 0.30661851, 0.92665719, 0.85112758, 0.37150162,\n",
       "        0.18023518]])"
      ]
     },
     "execution_count": 26,
     "metadata": {},
     "output_type": "execute_result"
    }
   ],
   "source": [
    "h_stack = np.hstack((a1,a2))\n",
    "h_stack"
   ]
  },
  {
   "cell_type": "code",
   "execution_count": 76,
   "id": "d20ecd72-f834-424e-9ed0-cfeecb15543b",
   "metadata": {},
   "outputs": [
    {
     "data": {
      "text/plain": [
       "2"
      ]
     },
     "execution_count": 76,
     "metadata": {},
     "output_type": "execute_result"
    }
   ],
   "source": [
    "h_stack.ndim"
   ]
  },
  {
   "cell_type": "code",
   "execution_count": 77,
   "id": "4dd92cac-c664-4047-bf74-8912a1e08ad4",
   "metadata": {},
   "outputs": [
    {
     "data": {
      "text/plain": [
       "8"
      ]
     },
     "execution_count": 77,
     "metadata": {},
     "output_type": "execute_result"
    }
   ],
   "source": [
    "h_stack.itemsize"
   ]
  },
  {
   "cell_type": "code",
   "execution_count": 78,
   "id": "0d36d1f1-88fb-4ce5-8ecb-25ad802747e0",
   "metadata": {},
   "outputs": [
    {
     "data": {
      "text/plain": [
       "18"
      ]
     },
     "execution_count": 78,
     "metadata": {},
     "output_type": "execute_result"
    }
   ],
   "source": [
    "h_stack.size"
   ]
  },
  {
   "cell_type": "code",
   "execution_count": 79,
   "id": "44c19e1a-e6ef-4c77-8a54-2b539ca2780a",
   "metadata": {},
   "outputs": [
    {
     "data": {
      "text/plain": [
       "(3, 6)"
      ]
     },
     "execution_count": 79,
     "metadata": {},
     "output_type": "execute_result"
    }
   ],
   "source": [
    "h_stack.shape"
   ]
  },
  {
   "cell_type": "code",
   "execution_count": 10,
   "id": "0051e957-b867-4946-a801-14b1e44ac0ec",
   "metadata": {},
   "outputs": [
    {
     "data": {
      "text/plain": [
       "array([[0.21421579, 0.02290038, 0.44584227],\n",
       "       [0.3986845 , 0.36782217, 0.62041593],\n",
       "       [0.05888082, 0.30661851, 0.92665719],\n",
       "       [0.85529083, 0.98760695, 0.76605505],\n",
       "       [0.32772164, 0.2462016 , 0.00288729],\n",
       "       [0.85112758, 0.37150162, 0.18023518]])"
      ]
     },
     "execution_count": 10,
     "metadata": {},
     "output_type": "execute_result"
    }
   ],
   "source": [
    "v_stk = np.vstack((a1,a2))\n",
    "v_stk"
   ]
  },
  {
   "cell_type": "code",
   "execution_count": 23,
   "id": "db6ebdad-e0b9-4d36-8196-b2b5c2ce316a",
   "metadata": {},
   "outputs": [
    {
     "data": {
      "text/plain": [
       "(6, 3)"
      ]
     },
     "execution_count": 23,
     "metadata": {},
     "output_type": "execute_result"
    }
   ],
   "source": [
    "v_stk.shape"
   ]
  },
  {
   "cell_type": "code",
   "execution_count": 80,
   "id": "e9be7d5a-0711-4e9b-8fb7-b7e1c277e651",
   "metadata": {},
   "outputs": [
    {
     "data": {
      "text/plain": [
       "2"
      ]
     },
     "execution_count": 80,
     "metadata": {},
     "output_type": "execute_result"
    }
   ],
   "source": [
    "v_stk.ndim"
   ]
  },
  {
   "cell_type": "code",
   "execution_count": 81,
   "id": "59742418-cb37-4d6b-b2af-56e85c9d1cce",
   "metadata": {},
   "outputs": [
    {
     "data": {
      "text/plain": [
       "8"
      ]
     },
     "execution_count": 81,
     "metadata": {},
     "output_type": "execute_result"
    }
   ],
   "source": [
    "v_stk.itemsize"
   ]
  },
  {
   "cell_type": "code",
   "execution_count": 83,
   "id": "fde275f1-a76a-4398-aa57-dbf6078dd1d2",
   "metadata": {},
   "outputs": [
    {
     "data": {
      "text/plain": [
       "18"
      ]
     },
     "execution_count": 83,
     "metadata": {},
     "output_type": "execute_result"
    }
   ],
   "source": [
    "v_stk.size"
   ]
  },
  {
   "cell_type": "code",
   "execution_count": 45,
   "id": "d8c1909c-c376-4e9e-8cf1-03e767fa256b",
   "metadata": {},
   "outputs": [
    {
     "data": {
      "text/plain": [
       "[array([[0.21421579, 0.02290038, 0.44584227, 0.85529083, 0.98760695,\n",
       "         0.76605505],\n",
       "        [0.3986845 , 0.36782217, 0.62041593, 0.32772164, 0.2462016 ,\n",
       "         0.00288729],\n",
       "        [0.05888082, 0.30661851, 0.92665719, 0.85112758, 0.37150162,\n",
       "         0.18023518]])]"
      ]
     },
     "execution_count": 45,
     "metadata": {},
     "output_type": "execute_result"
    }
   ],
   "source": [
    "# again original situation stack if (h_stack, 2) -- 2 array 2 row\n",
    "# if 3 then 3 row - array\n",
    "h_spl = np.hsplit(h_stack, 6) \n",
    "h_spl\n",
    "# h_stack"
   ]
  },
  {
   "cell_type": "code",
   "execution_count": 46,
   "id": "afd203c9-4c32-477c-ab2d-eb84589e7de9",
   "metadata": {},
   "outputs": [
    {
     "data": {
      "text/plain": [
       "[array([[0.21421579, 0.02290038],\n",
       "        [0.3986845 , 0.36782217],\n",
       "        [0.05888082, 0.30661851]]),\n",
       " array([[0.44584227, 0.85529083],\n",
       "        [0.62041593, 0.32772164],\n",
       "        [0.92665719, 0.85112758]]),\n",
       " array([[0.98760695, 0.76605505],\n",
       "        [0.2462016 , 0.00288729],\n",
       "        [0.37150162, 0.18023518]])]"
      ]
     },
     "execution_count": 46,
     "metadata": {},
     "output_type": "execute_result"
    }
   ],
   "source": [
    "h_spl = np.hsplit(h_stack, 3) \n",
    "h_spl"
   ]
  },
  {
   "cell_type": "code",
   "execution_count": 47,
   "id": "47e9abe6-629b-4b45-a80e-8a792f811aa5",
   "metadata": {},
   "outputs": [
    {
     "data": {
      "text/plain": [
       "[array([[0.21421579, 0.02290038, 0.44584227],\n",
       "        [0.3986845 , 0.36782217, 0.62041593],\n",
       "        [0.05888082, 0.30661851, 0.92665719]]),\n",
       " array([[0.85529083, 0.98760695, 0.76605505],\n",
       "        [0.32772164, 0.2462016 , 0.00288729],\n",
       "        [0.85112758, 0.37150162, 0.18023518]])]"
      ]
     },
     "execution_count": 47,
     "metadata": {},
     "output_type": "execute_result"
    }
   ],
   "source": [
    "h_spl = np.hsplit(h_stack, 2) \n",
    "h_spl"
   ]
  },
  {
   "cell_type": "code",
   "execution_count": 48,
   "id": "b721b385-f96c-4eb4-9652-efcbfdafbcc8",
   "metadata": {},
   "outputs": [
    {
     "data": {
      "text/plain": [
       "array([[0.21421579, 0.02290038, 0.44584227, 0.85529083, 0.98760695,\n",
       "        0.76605505],\n",
       "       [0.3986845 , 0.36782217, 0.62041593, 0.32772164, 0.2462016 ,\n",
       "        0.00288729],\n",
       "       [0.05888082, 0.30661851, 0.92665719, 0.85112758, 0.37150162,\n",
       "        0.18023518]])"
      ]
     },
     "execution_count": 48,
     "metadata": {},
     "output_type": "execute_result"
    }
   ],
   "source": [
    "h_stack"
   ]
  },
  {
   "cell_type": "code",
   "execution_count": 60,
   "id": "3ad0d330-1a03-4a78-9277-035ba07422cf",
   "metadata": {},
   "outputs": [
    {
     "data": {
      "text/plain": [
       "[array([[0.21421579, 0.02290038, 0.44584227, 0.85529083, 0.98760695,\n",
       "         0.76605505]]),\n",
       " array([[0.3986845 , 0.36782217, 0.62041593, 0.32772164, 0.2462016 ,\n",
       "         0.00288729]]),\n",
       " array([[0.05888082, 0.30661851, 0.92665719, 0.85112758, 0.37150162,\n",
       "         0.18023518]])]"
      ]
     },
     "execution_count": 60,
     "metadata": {},
     "output_type": "execute_result"
    }
   ],
   "source": [
    "#vertical split - lenth of vertical is 3 so we can split array till 3 only \n",
    "v_spl = np.vsplit(h_stack, 3)\n",
    "v_spl"
   ]
  },
  {
   "cell_type": "code",
   "execution_count": 62,
   "id": "0678c734-5e88-4986-9778-33fafb77c3ee",
   "metadata": {},
   "outputs": [
    {
     "data": {
      "text/plain": [
       "array([[0.21421579, 0.02290038, 0.44584227],\n",
       "       [0.3986845 , 0.36782217, 0.62041593],\n",
       "       [0.05888082, 0.30661851, 0.92665719],\n",
       "       [0.85529083, 0.98760695, 0.76605505],\n",
       "       [0.32772164, 0.2462016 , 0.00288729],\n",
       "       [0.85112758, 0.37150162, 0.18023518]])"
      ]
     },
     "execution_count": 62,
     "metadata": {},
     "output_type": "execute_result"
    }
   ],
   "source": [
    "v_stk"
   ]
  },
  {
   "cell_type": "code",
   "execution_count": 65,
   "id": "9ae43098-7045-4f70-b4ac-ab4165c9a2e1",
   "metadata": {},
   "outputs": [
    {
     "data": {
      "text/plain": [
       "[array([[0.21421579],\n",
       "        [0.3986845 ],\n",
       "        [0.05888082],\n",
       "        [0.85529083],\n",
       "        [0.32772164],\n",
       "        [0.85112758]]),\n",
       " array([[0.02290038],\n",
       "        [0.36782217],\n",
       "        [0.30661851],\n",
       "        [0.98760695],\n",
       "        [0.2462016 ],\n",
       "        [0.37150162]]),\n",
       " array([[0.44584227],\n",
       "        [0.62041593],\n",
       "        [0.92665719],\n",
       "        [0.76605505],\n",
       "        [0.00288729],\n",
       "        [0.18023518]])]"
      ]
     },
     "execution_count": 65,
     "metadata": {},
     "output_type": "execute_result"
    }
   ],
   "source": [
    "h_spl = np.hsplit(v_stk, 3)\n",
    "h_spl"
   ]
  },
  {
   "cell_type": "code",
   "execution_count": 72,
   "id": "8d5ebc43-ebe3-4e2b-8109-229b0c690a74",
   "metadata": {},
   "outputs": [
    {
     "data": {
      "text/plain": [
       "[array([[0.21421579, 0.02290038, 0.44584227]]),\n",
       " array([[0.3986845 , 0.36782217, 0.62041593]]),\n",
       " array([[0.05888082, 0.30661851, 0.92665719],\n",
       "        [0.85529083, 0.98760695, 0.76605505],\n",
       "        [0.32772164, 0.2462016 , 0.00288729],\n",
       "        [0.85112758, 0.37150162, 0.18023518]])]"
      ]
     },
     "execution_count": 72,
     "metadata": {},
     "output_type": "execute_result"
    }
   ],
   "source": [
    "h_spl = np.vsplit(v_stk, (1,2))\n",
    "h_spl"
   ]
  },
  {
   "cell_type": "code",
   "execution_count": 74,
   "id": "6128df50-6726-41f4-9dad-612da43c2276",
   "metadata": {},
   "outputs": [
    {
     "data": {
      "text/plain": [
       "[array([[0.21421579, 0.02290038, 0.44584227],\n",
       "        [0.3986845 , 0.36782217, 0.62041593]]),\n",
       " array([], shape=(0, 3), dtype=float64),\n",
       " array([[0.3986845 , 0.36782217, 0.62041593],\n",
       "        [0.05888082, 0.30661851, 0.92665719],\n",
       "        [0.85529083, 0.98760695, 0.76605505],\n",
       "        [0.32772164, 0.2462016 , 0.00288729],\n",
       "        [0.85112758, 0.37150162, 0.18023518]])]"
      ]
     },
     "execution_count": 74,
     "metadata": {},
     "output_type": "execute_result"
    }
   ],
   "source": [
    "h_spl = np.vsplit(v_stk, (2,1))\n",
    "h_spl"
   ]
  },
  {
   "cell_type": "code",
   "execution_count": null,
   "id": "5bbaeb99-e0b2-4452-8f40-96a032a2aa8c",
   "metadata": {},
   "outputs": [],
   "source": []
  }
 ],
 "metadata": {
  "kernelspec": {
   "display_name": "Python 3 (ipykernel)",
   "language": "python",
   "name": "python3"
  },
  "language_info": {
   "codemirror_mode": {
    "name": "ipython",
    "version": 3
   },
   "file_extension": ".py",
   "mimetype": "text/x-python",
   "name": "python",
   "nbconvert_exporter": "python",
   "pygments_lexer": "ipython3",
   "version": "3.8.3"
  }
 },
 "nbformat": 4,
 "nbformat_minor": 5
}
